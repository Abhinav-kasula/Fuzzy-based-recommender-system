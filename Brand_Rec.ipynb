{
  "nbformat": 4,
  "nbformat_minor": 0,
  "metadata": {
    "colab": {
      "provenance": []
    },
    "kernelspec": {
      "name": "python3",
      "display_name": "Python 3"
    },
    "language_info": {
      "name": "python"
    }
  },
  "cells": [
    {
      "cell_type": "code",
      "source": [
        " pip install -U scikit-fuzzy"
      ],
      "metadata": {
        "colab": {
          "base_uri": "https://localhost:8080/"
        },
        "id": "iaT3iVrc4XSr",
        "outputId": "601b37f6-9991-4278-de47-2e80fe57c5d9"
      },
      "execution_count": 2,
      "outputs": [
        {
          "output_type": "stream",
          "name": "stdout",
          "text": [
            "Collecting scikit-fuzzy\n",
            "  Downloading scikit-fuzzy-0.4.2.tar.gz (993 kB)\n",
            "\u001b[2K     \u001b[90m━━━━━━━━━━━━━━━━━━━━━━━━━━━━━━━━━━━━━━━━\u001b[0m \u001b[32m994.0/994.0 kB\u001b[0m \u001b[31m11.6 MB/s\u001b[0m eta \u001b[36m0:00:00\u001b[0m\n",
            "\u001b[?25h  Preparing metadata (setup.py) ... \u001b[?25l\u001b[?25hdone\n",
            "Requirement already satisfied: numpy>=1.6.0 in /usr/local/lib/python3.10/dist-packages (from scikit-fuzzy) (1.23.5)\n",
            "Requirement already satisfied: scipy>=0.9.0 in /usr/local/lib/python3.10/dist-packages (from scikit-fuzzy) (1.11.3)\n",
            "Requirement already satisfied: networkx>=1.9.0 in /usr/local/lib/python3.10/dist-packages (from scikit-fuzzy) (3.2)\n",
            "Building wheels for collected packages: scikit-fuzzy\n",
            "  Building wheel for scikit-fuzzy (setup.py) ... \u001b[?25l\u001b[?25hdone\n",
            "  Created wheel for scikit-fuzzy: filename=scikit_fuzzy-0.4.2-py3-none-any.whl size=894079 sha256=69cb52e9b587b0c34120fa7f71d0efd249b8766b12a5083546f4152a90b4b5e5\n",
            "  Stored in directory: /root/.cache/pip/wheels/4f/86/1b/dfd97134a2c8313e519bcebd95d3fedc7be7944db022094bc8\n",
            "Successfully built scikit-fuzzy\n",
            "Installing collected packages: scikit-fuzzy\n",
            "Successfully installed scikit-fuzzy-0.4.2\n"
          ]
        }
      ]
    },
    {
      "cell_type": "code",
      "execution_count": null,
      "metadata": {
        "id": "OHI2_G2p36Bk"
      },
      "outputs": [],
      "source": [
        "import pandas as pd\n",
        "import skfuzzy as fuzz\n",
        "from skfuzzy import control as ctrl\n",
        "import numpy as np\n",
        "\n",
        "df = pd.read_csv(\"kz.csv\")\n",
        "df = df.head(1000)\n",
        "\n",
        "category_code = ctrl.Antecedent(np.arange(len(df['category_code'].unique())), 'category_code')\n",
        "price = ctrl.Antecedent(np.arange(df['price'].min(), df['price'].max() + 1, 1), 'price')\n",
        "user_id = ctrl.Antecedent(np.arange(df['user_id'].min(), df['user_id'].max() + 1, 1), 'user_id')\n",
        "\n",
        "unique_brands = df['brand'].unique()\n",
        "brand = ctrl.Consequent(np.arange(len(unique_brands)), 'brand')\n",
        "\n",
        "category_code['low'] = fuzz.trimf(category_code.universe, [0, 0, 3])\n",
        "category_code['medium'] = fuzz.trimf(category_code.universe, [2, 5, 8])\n",
        "category_code['high'] = fuzz.trimf(category_code.universe, [7, 10, 10])\n",
        "\n",
        "\n",
        "price['low'] = fuzz.trimf(price.universe, [0, 100, 500])\n",
        "price['medium'] = fuzz.trimf(price.universe, [100, 500, 1000])\n",
        "price['high'] = fuzz.trimf(price.universe, [500, 1000, 1500])\n",
        "\n",
        "user_id['low'] = fuzz.trimf(user_id.universe, [df['user_id'].min(), df['user_id'].min(), df['user_id'].min() + 1000])\n",
        "user_id['medium'] = fuzz.trimf(user_id.universe, [df['user_id'].min() + 1000, df['user_id'].min() + 2000, df['user_id'].min() + 3000])\n",
        "user_id['high'] = fuzz.trimf(user_id.universe, [df['user_id'].min() + 2000, df['user_id'].max(), df['user_id'].max()])\n",
        "\n",
        "\n",
        "for idx, brand_name in enumerate(unique_brands):\n",
        "    brand[brand_name] = fuzz.trimf(brand.universe, [idx, idx, idx])\n",
        "\n",
        "rules = []\n",
        "\n",
        "category_mapping = {\n",
        "    'electronics.tablet': 'low',\n",
        "    'electronics.audio.headphone': 'low',\n",
        "    'karcher': 'low',\n",
        "    'furniture.kitchen.table': 'medium',\n",
        "    'electronics.smartphone': 'medium',\n",
        "    'appliances.kitchen.refrigerators': 'high',\n",
        "    'appliances.personal.scales': 'high',\n",
        "    'electronics.video.tv': 'medium',\n",
        "    'computers.components.cpu': 'medium',\n",
        "}\n",
        "\n",
        "for user in df['user_id'].unique():\n",
        "    for category_code_name in df['category_code'].unique():\n",
        "        data_subset = df[(df['user_id'] == user) & (df['category_code'] == category_code_name)]\n",
        "\n",
        "        if not data_subset.empty:\n",
        "            mode_result = data_subset['brand'].mode()\n",
        "            if not mode_result.empty:\n",
        "                brand_name = mode_result.iloc[0]\n",
        "\n",
        "                category_term = category_mapping.get(category_code_name, 'high')\n",
        "\n",
        "                rules.append(ctrl.Rule(category_code[category_term] & price['low'] & user_id['low'], brand[brand_name]))\n",
        "\n",
        "brand_ctrl = ctrl.ControlSystem(rules)\n",
        "\n",
        "brand_sim = ctrl.ControlSystemSimulation(brand_ctrl)"
      ]
    },
    {
      "cell_type": "code",
      "source": [],
      "metadata": {
        "id": "z6H7lLYc4UoN"
      },
      "execution_count": null,
      "outputs": []
    }
  ]
}