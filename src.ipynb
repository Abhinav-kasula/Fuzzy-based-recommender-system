{
  "nbformat": 4,
  "nbformat_minor": 0,
  "metadata": {
    "colab": {
      "provenance": []
    },
    "kernelspec": {
      "name": "python3",
      "display_name": "Python 3"
    },
    "language_info": {
      "name": "python"
    }
  },
  "cells": [
    {
      "cell_type": "code",
      "execution_count": null,
      "metadata": {
        "colab": {
          "base_uri": "https://localhost:8080/"
        },
        "id": "zQ2GfeaExwFX",
        "outputId": "6f4d5129-bd46-4cec-fb07-f5a3d3ba5248"
      },
      "outputs": [
        {
          "output_type": "stream",
          "name": "stdout",
          "text": [
            "Collecting scikit-fuzzy\n",
            "  Downloading scikit-fuzzy-0.4.2.tar.gz (993 kB)\n",
            "\u001b[2K     \u001b[90m━━━━━━━━━━━━━━━━━━━━━━━━━━━━━━━━━━━━━━━━\u001b[0m \u001b[32m994.0/994.0 kB\u001b[0m \u001b[31m8.6 MB/s\u001b[0m eta \u001b[36m0:00:00\u001b[0m\n",
            "\u001b[?25h  Preparing metadata (setup.py) ... \u001b[?25l\u001b[?25hdone\n",
            "Requirement already satisfied: numpy>=1.6.0 in /usr/local/lib/python3.10/dist-packages (from scikit-fuzzy) (1.23.5)\n",
            "Requirement already satisfied: scipy>=0.9.0 in /usr/local/lib/python3.10/dist-packages (from scikit-fuzzy) (1.11.3)\n",
            "Requirement already satisfied: networkx>=1.9.0 in /usr/local/lib/python3.10/dist-packages (from scikit-fuzzy) (3.2)\n",
            "Building wheels for collected packages: scikit-fuzzy\n",
            "  Building wheel for scikit-fuzzy (setup.py) ... \u001b[?25l\u001b[?25hdone\n",
            "  Created wheel for scikit-fuzzy: filename=scikit_fuzzy-0.4.2-py3-none-any.whl size=894079 sha256=924948a89e0f7207df821c1d2d035d289cb9a9dc77dfec205040b3339f33f228\n",
            "  Stored in directory: /root/.cache/pip/wheels/4f/86/1b/dfd97134a2c8313e519bcebd95d3fedc7be7944db022094bc8\n",
            "Successfully built scikit-fuzzy\n",
            "Installing collected packages: scikit-fuzzy\n",
            "Successfully installed scikit-fuzzy-0.4.2\n"
          ]
        }
      ],
      "source": [
        " pip install -U scikit-fuzzy"
      ]
    },
    {
      "cell_type": "code",
      "source": [
        "import pandas as pd\n",
        "import numpy as np\n",
        "import skfuzzy as fuzz\n",
        "from skfuzzy import control as ctrl\n",
        "import random\n",
        "\n",
        "df = pd.read_csv(\"kz.csv\")\n",
        "df = df.head(1000)\n",
        "\n",
        "category_popularity = df.groupby('category_id').size().reset_index(name='popularity')\n",
        "\n",
        "user_preference = ctrl.Antecedent(np.arange(0, 11, 1), 'User Preference')\n",
        "item_popularity = ctrl.Antecedent(np.arange(0, category_popularity['popularity'].max() + 1, 1), 'Item Popularity')\n",
        "recommendation_score = ctrl.Consequent(np.arange(0, 101, 1), 'Recommendation Score')\n",
        "\n",
        "user_preference.automf(3)\n",
        "item_popularity.automf(3)\n",
        "recommendation_score.automf(5)\n",
        "\n",
        "rule1 = ctrl.Rule(user_preference['poor'] | item_popularity['poor'], recommendation_score['average'])\n",
        "rule2 = ctrl.Rule(user_preference['average'] | item_popularity['average'], recommendation_score['decent'])\n",
        "rule3 = ctrl.Rule(user_preference['good'] | item_popularity['good'], recommendation_score['good'])\n",
        "rule4 = ctrl.Rule(user_preference['poor'] | item_popularity['good'], recommendation_score['mediocre'])\n",
        "rule5 = ctrl.Rule(user_preference['good'] | item_popularity['poor'], recommendation_score['decent'])\n",
        "\n",
        "recommendation_ctrl = ctrl.ControlSystem([rule1, rule2, rule3, rule4, rule5])\n",
        "\n",
        "recommendation_system = ctrl.ControlSystemSimulation(recommendation_ctrl)\n",
        "\n",
        "random_category = random.choice(category_popularity['category_id'].values)\n",
        "\n",
        "random_user_preference = random.randint(0, 10)\n",
        "\n",
        "category_popularity_value = category_popularity[category_popularity['category_id'] == random_category]['popularity'].values[0]\n",
        "\n",
        "recommendation_system.input['User Preference'] = random_user_preference\n",
        "recommendation_system.input['Item Popularity'] = category_popularity_value\n",
        "\n",
        "recommendation_system.compute()\n",
        "\n",
        "recommendation_score = recommendation_system.output['Recommendation Score']\n",
        "\n",
        "print(f'Random Category ID: {random_category}')\n",
        "print(f'Recommendation Accuracy: {recommendation_score:.2f}%')"
      ],
      "metadata": {
        "colab": {
          "base_uri": "https://localhost:8080/"
        },
        "id": "w2p8nFIIx_tG",
        "outputId": "d5be711d-af11-4c44-ddcb-e8aac3a38a29"
      },
      "execution_count": null,
      "outputs": [
        {
          "output_type": "stream",
          "name": "stdout",
          "text": [
            "Random Category ID: 2.2681054044854692e+18\n",
            "Recommendation Accuracy: 65.45%\n"
          ]
        }
      ]
    },
    {
      "cell_type": "code",
      "source": [],
      "metadata": {
        "id": "ugNnnSVleyf0"
      },
      "execution_count": null,
      "outputs": []
    }
  ]
}